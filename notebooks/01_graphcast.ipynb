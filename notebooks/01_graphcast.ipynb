{
 "cells": [
  {
   "cell_type": "code",
   "execution_count": null,
   "id": "7ae7f65b",
   "metadata": {
    "vscode": {
     "languageId": "plaintext"
    }
   },
   "outputs": [],
   "source": [
    "from transformers import AutoModel\n",
    "import xarray as xr\n",
    "import torch\n",
    "\n",
    "model = AutoModel.from_pretrained(\"deepmind/graphcast\")\n",
    "# cargar dataset de prueba ERA5 (ver utilidades)\n",
    "ds = xr.open_dataset(\"../data/era5_chile.nc\")\n",
    "# Prepara tensores, ejecuta inferencia...\n"
   ]
  }
 ],
 "metadata": {
  "language_info": {
   "name": "python"
  }
 },
 "nbformat": 4,
 "nbformat_minor": 5
}
